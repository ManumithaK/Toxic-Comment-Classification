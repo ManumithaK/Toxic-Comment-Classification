{
 "cells": [
  {
   "cell_type": "code",
   "execution_count": null,
   "id": "0065ccac",
   "metadata": {},
   "outputs": [],
   "source": [
    "import pandas as pd\n",
    "import numpy as np\n",
    "import re\n",
    "import string\n",
    "from nltk.stem.wordnet import WordNetLemmatizer\n",
    "from nltk.corpus import stopwords\n",
    "from timeit import default_timer as timer\n",
    "\n",
    "import matplotlib.pyplot as plt\n",
    "import seaborn as sns\n",
    "\n",
    "from sklearn.feature_extraction.text import TfidfVectorizer\n",
    "from sklearn.linear_model import LogisticRegression\n",
    "from sklearn.naive_bayes import MultinomialNB\n",
    "from sklearn.svm import LinearSVC\n",
    "from sklearn.ensemble import RandomForestClassifier\n",
    "from sklearn.tree import DecisionTreeClassifier\n",
    "\n",
    "from sklearn.metrics import accuracy_score, f1_score, recall_score, precision_score, roc_auc_score, roc_curve\n",
    "from sklearn.metrics import confusion_matrix\n",
    "from sklearn.model_selection import cross_val_score\n",
    "from sklearn.metrics import fbeta_score\n",
    "from statistics import mean\n",
    "from sklearn.metrics import hamming_loss\n",
    "from sklearn.model_selection import StratifiedKFold\n",
    "from sklearn.model_selection import GridSearchCV\n",
    "from sklearn.model_selection import ShuffleSplit\n",
    "from sklearn.model_selection import learning_curve\n",
    "\n",
    "from sklearn.metrics import roc_auc_score, confusion_matrix\n",
    "import statistics\n",
    "from sklearn.metrics import recall_score\n",
    "\n",
    "from wordcloud import WordCloud\n",
    "from collections import Counter\n",
    "\n",
    "from sklearn.pipeline import Pipeline\n",
    "\n",
    "from sklearn.ensemble import AdaBoostClassifier\n",
    "from sklearn.ensemble import BaggingClassifier\n",
    "from sklearn.ensemble import GradientBoostingClassifier\n",
    "from sklearn.ensemble import VotingClassifier\n"
   ]
  },
  {
   "cell_type": "code",
   "execution_count": null,
   "id": "4fe3cd68",
   "metadata": {},
   "outputs": [],
   "source": [
    "train = pd.read_csv(\"//Users/manumitha/Downloads/train2.csv\")\n",
    "test = pd.read_csv(\"/Users/manumitha/Downloads/test2.csv\")\n",
    "test_y = pd.read_csv(\"/Users/manumitha/Downloads/test_labels 2.csv\")"
   ]
  },
  {
   "cell_type": "code",
   "execution_count": 48,
   "id": "220e0b05",
   "metadata": {},
   "outputs": [
    {
     "data": {
      "text/html": [
       "<div>\n",
       "<style scoped>\n",
       "    .dataframe tbody tr th:only-of-type {\n",
       "        vertical-align: middle;\n",
       "    }\n",
       "\n",
       "    .dataframe tbody tr th {\n",
       "        vertical-align: top;\n",
       "    }\n",
       "\n",
       "    .dataframe thead th {\n",
       "        text-align: right;\n",
       "    }\n",
       "</style>\n",
       "<table border=\"1\" class=\"dataframe\">\n",
       "  <thead>\n",
       "    <tr style=\"text-align: right;\">\n",
       "      <th></th>\n",
       "      <th>toxic</th>\n",
       "      <th>severe_toxic</th>\n",
       "      <th>obscene</th>\n",
       "      <th>threat</th>\n",
       "      <th>insult</th>\n",
       "      <th>identity_hate</th>\n",
       "    </tr>\n",
       "  </thead>\n",
       "  <tbody>\n",
       "    <tr>\n",
       "      <th>count</th>\n",
       "      <td>159571.000000</td>\n",
       "      <td>159571.000000</td>\n",
       "      <td>159571.000000</td>\n",
       "      <td>159571.000000</td>\n",
       "      <td>159571.000000</td>\n",
       "      <td>159571.000000</td>\n",
       "    </tr>\n",
       "    <tr>\n",
       "      <th>mean</th>\n",
       "      <td>0.095844</td>\n",
       "      <td>0.009996</td>\n",
       "      <td>0.052948</td>\n",
       "      <td>0.002996</td>\n",
       "      <td>0.049364</td>\n",
       "      <td>0.008805</td>\n",
       "    </tr>\n",
       "    <tr>\n",
       "      <th>std</th>\n",
       "      <td>0.294379</td>\n",
       "      <td>0.099477</td>\n",
       "      <td>0.223931</td>\n",
       "      <td>0.054650</td>\n",
       "      <td>0.216627</td>\n",
       "      <td>0.093420</td>\n",
       "    </tr>\n",
       "    <tr>\n",
       "      <th>min</th>\n",
       "      <td>0.000000</td>\n",
       "      <td>0.000000</td>\n",
       "      <td>0.000000</td>\n",
       "      <td>0.000000</td>\n",
       "      <td>0.000000</td>\n",
       "      <td>0.000000</td>\n",
       "    </tr>\n",
       "    <tr>\n",
       "      <th>25%</th>\n",
       "      <td>0.000000</td>\n",
       "      <td>0.000000</td>\n",
       "      <td>0.000000</td>\n",
       "      <td>0.000000</td>\n",
       "      <td>0.000000</td>\n",
       "      <td>0.000000</td>\n",
       "    </tr>\n",
       "    <tr>\n",
       "      <th>50%</th>\n",
       "      <td>0.000000</td>\n",
       "      <td>0.000000</td>\n",
       "      <td>0.000000</td>\n",
       "      <td>0.000000</td>\n",
       "      <td>0.000000</td>\n",
       "      <td>0.000000</td>\n",
       "    </tr>\n",
       "    <tr>\n",
       "      <th>75%</th>\n",
       "      <td>0.000000</td>\n",
       "      <td>0.000000</td>\n",
       "      <td>0.000000</td>\n",
       "      <td>0.000000</td>\n",
       "      <td>0.000000</td>\n",
       "      <td>0.000000</td>\n",
       "    </tr>\n",
       "    <tr>\n",
       "      <th>max</th>\n",
       "      <td>1.000000</td>\n",
       "      <td>1.000000</td>\n",
       "      <td>1.000000</td>\n",
       "      <td>1.000000</td>\n",
       "      <td>1.000000</td>\n",
       "      <td>1.000000</td>\n",
       "    </tr>\n",
       "  </tbody>\n",
       "</table>\n",
       "</div>"
      ],
      "text/plain": [
       "               toxic   severe_toxic        obscene         threat  \\\n",
       "count  159571.000000  159571.000000  159571.000000  159571.000000   \n",
       "mean        0.095844       0.009996       0.052948       0.002996   \n",
       "std         0.294379       0.099477       0.223931       0.054650   \n",
       "min         0.000000       0.000000       0.000000       0.000000   \n",
       "25%         0.000000       0.000000       0.000000       0.000000   \n",
       "50%         0.000000       0.000000       0.000000       0.000000   \n",
       "75%         0.000000       0.000000       0.000000       0.000000   \n",
       "max         1.000000       1.000000       1.000000       1.000000   \n",
       "\n",
       "              insult  identity_hate  \n",
       "count  159571.000000  159571.000000  \n",
       "mean        0.049364       0.008805  \n",
       "std         0.216627       0.093420  \n",
       "min         0.000000       0.000000  \n",
       "25%         0.000000       0.000000  \n",
       "50%         0.000000       0.000000  \n",
       "75%         0.000000       0.000000  \n",
       "max         1.000000       1.000000  "
      ]
     },
     "execution_count": 48,
     "metadata": {},
     "output_type": "execute_result"
    }
   ],
   "source": [
    "train.describe()"
   ]
  },
  {
   "cell_type": "code",
   "execution_count": 49,
   "id": "a2acec97",
   "metadata": {},
   "outputs": [
    {
     "data": {
      "text/html": [
       "<div>\n",
       "<style scoped>\n",
       "    .dataframe tbody tr th:only-of-type {\n",
       "        vertical-align: middle;\n",
       "    }\n",
       "\n",
       "    .dataframe tbody tr th {\n",
       "        vertical-align: top;\n",
       "    }\n",
       "\n",
       "    .dataframe thead th {\n",
       "        text-align: right;\n",
       "    }\n",
       "</style>\n",
       "<table border=\"1\" class=\"dataframe\">\n",
       "  <thead>\n",
       "    <tr style=\"text-align: right;\">\n",
       "      <th></th>\n",
       "      <th>id</th>\n",
       "      <th>comment_text</th>\n",
       "      <th>toxic</th>\n",
       "      <th>severe_toxic</th>\n",
       "      <th>obscene</th>\n",
       "      <th>threat</th>\n",
       "      <th>insult</th>\n",
       "      <th>identity_hate</th>\n",
       "    </tr>\n",
       "  </thead>\n",
       "  <tbody>\n",
       "    <tr>\n",
       "      <th>0</th>\n",
       "      <td>0000997932d777bf</td>\n",
       "      <td>Explanation\\nWhy the edits made under my usern...</td>\n",
       "      <td>0</td>\n",
       "      <td>0</td>\n",
       "      <td>0</td>\n",
       "      <td>0</td>\n",
       "      <td>0</td>\n",
       "      <td>0</td>\n",
       "    </tr>\n",
       "    <tr>\n",
       "      <th>1</th>\n",
       "      <td>000103f0d9cfb60f</td>\n",
       "      <td>D'aww! He matches this background colour I'm s...</td>\n",
       "      <td>0</td>\n",
       "      <td>0</td>\n",
       "      <td>0</td>\n",
       "      <td>0</td>\n",
       "      <td>0</td>\n",
       "      <td>0</td>\n",
       "    </tr>\n",
       "    <tr>\n",
       "      <th>2</th>\n",
       "      <td>000113f07ec002fd</td>\n",
       "      <td>Hey man, I'm really not trying to edit war. It...</td>\n",
       "      <td>0</td>\n",
       "      <td>0</td>\n",
       "      <td>0</td>\n",
       "      <td>0</td>\n",
       "      <td>0</td>\n",
       "      <td>0</td>\n",
       "    </tr>\n",
       "    <tr>\n",
       "      <th>3</th>\n",
       "      <td>0001b41b1c6bb37e</td>\n",
       "      <td>\"\\nMore\\nI can't make any real suggestions on ...</td>\n",
       "      <td>0</td>\n",
       "      <td>0</td>\n",
       "      <td>0</td>\n",
       "      <td>0</td>\n",
       "      <td>0</td>\n",
       "      <td>0</td>\n",
       "    </tr>\n",
       "    <tr>\n",
       "      <th>4</th>\n",
       "      <td>0001d958c54c6e35</td>\n",
       "      <td>You, sir, are my hero. Any chance you remember...</td>\n",
       "      <td>0</td>\n",
       "      <td>0</td>\n",
       "      <td>0</td>\n",
       "      <td>0</td>\n",
       "      <td>0</td>\n",
       "      <td>0</td>\n",
       "    </tr>\n",
       "  </tbody>\n",
       "</table>\n",
       "</div>"
      ],
      "text/plain": [
       "                 id                                       comment_text  toxic  \\\n",
       "0  0000997932d777bf  Explanation\\nWhy the edits made under my usern...      0   \n",
       "1  000103f0d9cfb60f  D'aww! He matches this background colour I'm s...      0   \n",
       "2  000113f07ec002fd  Hey man, I'm really not trying to edit war. It...      0   \n",
       "3  0001b41b1c6bb37e  \"\\nMore\\nI can't make any real suggestions on ...      0   \n",
       "4  0001d958c54c6e35  You, sir, are my hero. Any chance you remember...      0   \n",
       "\n",
       "   severe_toxic  obscene  threat  insult  identity_hate  \n",
       "0             0        0       0       0              0  \n",
       "1             0        0       0       0              0  \n",
       "2             0        0       0       0              0  \n",
       "3             0        0       0       0              0  \n",
       "4             0        0       0       0              0  "
      ]
     },
     "execution_count": 49,
     "metadata": {},
     "output_type": "execute_result"
    }
   ],
   "source": [
    "train.head()"
   ]
  },
  {
   "cell_type": "code",
   "execution_count": 51,
   "id": "0fbc6c78",
   "metadata": {},
   "outputs": [],
   "source": [
    "train_labels = train[['toxic', 'severe_toxic',\n",
    "                      'obscene', 'threat', 'insult', 'identity_hate']]\n",
    "no_of_labels = train_labels.sum()"
   ]
  },
  {
   "cell_type": "code",
   "execution_count": 52,
   "id": "5f010a0b",
   "metadata": {},
   "outputs": [
    {
     "data": {
      "text/plain": [
       "<Axes: title={'center': 'Labels Frequency'}>"
      ]
     },
     "execution_count": 52,
     "metadata": {},
     "output_type": "execute_result"
    },
    {
     "data": {
      "image/png": "[encoded data removed]",
      "text/plain": [
       "<Figure size 640x480 with 1 Axes>"
      ]
     },
     "metadata": {},
     "output_type": "display_data"
    }
   ],
   "source": [
    "no_of_labels.plot(kind='bar', title='Labels Frequency', color='steelblue')\n"
   ]
  },
  {
   "cell_type": "code",
   "execution_count": null,
   "id": "7d5e7ed0",
   "metadata": {},
   "outputs": [],
   "source": [
    "# the plot shows that the training set has many instances of label 'toxic' and less instances of label 'threat'"
   ]
  },
  {
   "cell_type": "code",
   "execution_count": 53,
   "id": "fec00b4a",
   "metadata": {},
   "outputs": [],
   "source": [
    "# Below we proceed to perform Feature Engineering and break down the sentences into words\n",
    "\n",
    "test_labels = [\"toxic\", \"severe_toxic\", \"obscene\",\n",
    "               \"threat\", \"insult\", \"identity_hate\"]"
   ]
  },
  {
   "cell_type": "code",
   "execution_count": 54,
   "id": "1b1369ae",
   "metadata": {},
   "outputs": [],
   "source": [
    "def tokenize(text):\n",
    "    '''\n",
    "    Tokenize text and return a non-unique list of tokenized words found in the text. \n",
    "    Normalize to lowercase, strip punctuation, remove stop words, filter non-ascii characters.\n",
    "    Lemmatize the words and lastly drop words of length < 3.\n",
    "    '''\n",
    "    text = text.lower()\n",
    "    regex = re.compile('[' + re.escape(string.punctuation) + '0-9\\\\r\\\\t\\\\n]')\n",
    "    nopunct = regex.sub(\" \", text)\n",
    "    words = nopunct.split(' ')\n",
    "    # remove any non ascii\n",
    "    words = [word.encode('ascii', 'ignore').decode('ascii') for word in words]\n",
    "    lmtzr = WordNetLemmatizer()\n",
    "    words = [lmtzr.lemmatize(w) for w in words]\n",
    "    words = [w for w in words if len(w) > 2]\n",
    "    return words"
   ]
  },
  {
   "cell_type": "code",
   "execution_count": 55,
   "id": "3b9e2ac1",
   "metadata": {},
   "outputs": [
    {
     "name": "stdout",
     "output_type": "stream",
     "text": [
      "[nltk_data] Downloading package stopwords to\n",
      "[nltk_data]     /Users/manumitha/nltk_data...\n",
      "[nltk_data]   Package stopwords is already up-to-date!\n"
     ]
    },
    {
     "data": {
      "text/plain": [
       "True"
      ]
     },
     "execution_count": 55,
     "metadata": {},
     "output_type": "execute_result"
    }
   ],
   "source": [
    "import nltk\n",
    "nltk.download(\"stopwords\")"
   ]
  },
  {
   "cell_type": "code",
   "execution_count": 56,
   "id": "24b67289",
   "metadata": {},
   "outputs": [
    {
     "name": "stdout",
     "output_type": "stream",
     "text": [
      "[nltk_data] Downloading package wordnet to\n",
      "[nltk_data]     /Users/manumitha/nltk_data...\n",
      "[nltk_data]   Package wordnet is already up-to-date!\n"
     ]
    },
    {
     "data": {
      "text/plain": [
       "True"
      ]
     },
     "execution_count": 56,
     "metadata": {},
     "output_type": "execute_result"
    }
   ],
   "source": [
    "import nltk\n",
    "nltk.download('wordnet')"
   ]
  },
  {
   "cell_type": "code",
   "execution_count": 57,
   "id": "85c5e86e",
   "metadata": {},
   "outputs": [],
   "source": [
    "# Below we proceed to use TfidfVectorizer so that the most repeated words do not impact more \n",
    "\n",
    "\n",
    "vector = TfidfVectorizer(ngram_range=(1, 1), analyzer='word',\n",
    "                         tokenizer=tokenize, stop_words='english',\n",
    "                         strip_accents='unicode', use_idf=1, min_df=10)\n",
    "X_train = vector.fit_transform(train['comment_text'])\n",
    "X_test = vector.transform(test['comment_text'])"
   ]
  },
  {
   "cell_type": "code",
   "execution_count": 59,
   "id": "fd010683",
   "metadata": {},
   "outputs": [],
   "source": [
    "# we are working with models: Multinomial Naive Bayes, Logistic Regression, Linear Support VEctor Machine \n",
    "\n",
    "clf1 = MultinomialNB()\n",
    "clf2 = LogisticRegression()\n",
    "clf3 = LinearSVC()"
   ]
  },
  {
   "cell_type": "code",
   "execution_count": 62,
   "id": "7960ef12",
   "metadata": {},
   "outputs": [],
   "source": [
    "#comparing the three models and evaluating them with the metrices: Recall, F1 score\n",
    "\n",
    "def cross_validation_score(classifier, X_train, y_train):\n",
    "   \n",
    "    methods = []\n",
    "    name = classifier.__class__.__name__.split('.')[-1]\n",
    "\n",
    "    for label in test_labels:\n",
    "        recall = cross_val_score(\n",
    "            classifier, X_train, y_train[label], cv=10, scoring='recall')\n",
    "        f1 = cross_val_score(classifier, X_train,\n",
    "                             y_train[label], cv=10, scoring='f1')\n",
    "        methods.append([name, label, recall.mean(), f1.mean()])\n",
    "\n",
    "    return methods"
   ]
  },
  {
   "cell_type": "code",
   "execution_count": 63,
   "id": "c4856b04",
   "metadata": {},
   "outputs": [],
   "source": [
    "methods1_cv = pd.DataFrame(cross_validation_score(clf1, X_train, train))\n",
    "methods2_cv = pd.DataFrame(cross_validation_score(clf2, X_train, train))\n",
    "methods3_cv = pd.DataFrame(cross_validation_score(clf3, X_train, train))"
   ]
  },
  {
   "cell_type": "code",
   "execution_count": 64,
   "id": "5f71d377",
   "metadata": {},
   "outputs": [
    {
     "data": {
      "text/html": [
       "<div>\n",
       "<style scoped>\n",
       "    .dataframe tbody tr th:only-of-type {\n",
       "        vertical-align: middle;\n",
       "    }\n",
       "\n",
       "    .dataframe tbody tr th {\n",
       "        vertical-align: top;\n",
       "    }\n",
       "\n",
       "    .dataframe thead th {\n",
       "        text-align: right;\n",
       "    }\n",
       "</style>\n",
       "<table border=\"1\" class=\"dataframe\">\n",
       "  <thead>\n",
       "    <tr style=\"text-align: right;\">\n",
       "      <th></th>\n",
       "      <th>Model</th>\n",
       "      <th>Label</th>\n",
       "      <th>Recall</th>\n",
       "      <th>F1</th>\n",
       "    </tr>\n",
       "  </thead>\n",
       "  <tbody>\n",
       "    <tr>\n",
       "      <th>0</th>\n",
       "      <td>MultinomialNB</td>\n",
       "      <td>toxic</td>\n",
       "      <td>0.482999</td>\n",
       "      <td>0.636562</td>\n",
       "    </tr>\n",
       "    <tr>\n",
       "      <th>1</th>\n",
       "      <td>MultinomialNB</td>\n",
       "      <td>severe_toxic</td>\n",
       "      <td>0.021938</td>\n",
       "      <td>0.042244</td>\n",
       "    </tr>\n",
       "    <tr>\n",
       "      <th>2</th>\n",
       "      <td>MultinomialNB</td>\n",
       "      <td>obscene</td>\n",
       "      <td>0.469167</td>\n",
       "      <td>0.622148</td>\n",
       "    </tr>\n",
       "    <tr>\n",
       "      <th>3</th>\n",
       "      <td>MultinomialNB</td>\n",
       "      <td>threat</td>\n",
       "      <td>0.000000</td>\n",
       "      <td>0.000000</td>\n",
       "    </tr>\n",
       "    <tr>\n",
       "      <th>4</th>\n",
       "      <td>MultinomialNB</td>\n",
       "      <td>insult</td>\n",
       "      <td>0.367020</td>\n",
       "      <td>0.511394</td>\n",
       "    </tr>\n",
       "    <tr>\n",
       "      <th>5</th>\n",
       "      <td>MultinomialNB</td>\n",
       "      <td>identity_hate</td>\n",
       "      <td>0.007832</td>\n",
       "      <td>0.015346</td>\n",
       "    </tr>\n",
       "    <tr>\n",
       "      <th>6</th>\n",
       "      <td>LogisticRegression</td>\n",
       "      <td>toxic</td>\n",
       "      <td>0.610565</td>\n",
       "      <td>0.731388</td>\n",
       "    </tr>\n",
       "    <tr>\n",
       "      <th>7</th>\n",
       "      <td>LogisticRegression</td>\n",
       "      <td>severe_toxic</td>\n",
       "      <td>0.256431</td>\n",
       "      <td>0.351530</td>\n",
       "    </tr>\n",
       "    <tr>\n",
       "      <th>8</th>\n",
       "      <td>LogisticRegression</td>\n",
       "      <td>obscene</td>\n",
       "      <td>0.636884</td>\n",
       "      <td>0.747276</td>\n",
       "    </tr>\n",
       "    <tr>\n",
       "      <th>9</th>\n",
       "      <td>LogisticRegression</td>\n",
       "      <td>threat</td>\n",
       "      <td>0.123316</td>\n",
       "      <td>0.206632</td>\n",
       "    </tr>\n",
       "    <tr>\n",
       "      <th>10</th>\n",
       "      <td>LogisticRegression</td>\n",
       "      <td>insult</td>\n",
       "      <td>0.523546</td>\n",
       "      <td>0.638177</td>\n",
       "    </tr>\n",
       "    <tr>\n",
       "      <th>11</th>\n",
       "      <td>LogisticRegression</td>\n",
       "      <td>identity_hate</td>\n",
       "      <td>0.200750</td>\n",
       "      <td>0.310379</td>\n",
       "    </tr>\n",
       "    <tr>\n",
       "      <th>12</th>\n",
       "      <td>LinearSVC</td>\n",
       "      <td>toxic</td>\n",
       "      <td>0.680659</td>\n",
       "      <td>0.759365</td>\n",
       "    </tr>\n",
       "    <tr>\n",
       "      <th>13</th>\n",
       "      <td>LinearSVC</td>\n",
       "      <td>severe_toxic</td>\n",
       "      <td>0.265825</td>\n",
       "      <td>0.353608</td>\n",
       "    </tr>\n",
       "    <tr>\n",
       "      <th>14</th>\n",
       "      <td>LinearSVC</td>\n",
       "      <td>obscene</td>\n",
       "      <td>0.695233</td>\n",
       "      <td>0.774031</td>\n",
       "    </tr>\n",
       "    <tr>\n",
       "      <th>15</th>\n",
       "      <td>LinearSVC</td>\n",
       "      <td>threat</td>\n",
       "      <td>0.219637</td>\n",
       "      <td>0.320988</td>\n",
       "    </tr>\n",
       "    <tr>\n",
       "      <th>16</th>\n",
       "      <td>LinearSVC</td>\n",
       "      <td>insult</td>\n",
       "      <td>0.576485</td>\n",
       "      <td>0.663236</td>\n",
       "    </tr>\n",
       "    <tr>\n",
       "      <th>17</th>\n",
       "      <td>LinearSVC</td>\n",
       "      <td>identity_hate</td>\n",
       "      <td>0.274752</td>\n",
       "      <td>0.383694</td>\n",
       "    </tr>\n",
       "  </tbody>\n",
       "</table>\n",
       "</div>"
      ],
      "text/plain": [
       "                 Model          Label    Recall        F1\n",
       "0        MultinomialNB          toxic  0.482999  0.636562\n",
       "1        MultinomialNB   severe_toxic  0.021938  0.042244\n",
       "2        MultinomialNB        obscene  0.469167  0.622148\n",
       "3        MultinomialNB         threat  0.000000  0.000000\n",
       "4        MultinomialNB         insult  0.367020  0.511394\n",
       "5        MultinomialNB  identity_hate  0.007832  0.015346\n",
       "6   LogisticRegression          toxic  0.610565  0.731388\n",
       "7   LogisticRegression   severe_toxic  0.256431  0.351530\n",
       "8   LogisticRegression        obscene  0.636884  0.747276\n",
       "9   LogisticRegression         threat  0.123316  0.206632\n",
       "10  LogisticRegression         insult  0.523546  0.638177\n",
       "11  LogisticRegression  identity_hate  0.200750  0.310379\n",
       "12           LinearSVC          toxic  0.680659  0.759365\n",
       "13           LinearSVC   severe_toxic  0.265825  0.353608\n",
       "14           LinearSVC        obscene  0.695233  0.774031\n",
       "15           LinearSVC         threat  0.219637  0.320988\n",
       "16           LinearSVC         insult  0.576485  0.663236\n",
       "17           LinearSVC  identity_hate  0.274752  0.383694"
      ]
     },
     "execution_count": 64,
     "metadata": {},
     "output_type": "execute_result"
    }
   ],
   "source": [
    "methods_cv = pd.concat([methods1_cv, methods2_cv, methods3_cv])\n",
    "methods_cv.columns = ['Model', 'Label', 'Recall', 'F1']\n",
    "meth_cv = methods_cv.reset_index()\n",
    "meth_cv[['Model', 'Label', 'Recall', 'F1']]"
   ]
  },
  {
   "cell_type": "code",
   "execution_count": 65,
   "id": "ba900276",
   "metadata": {},
   "outputs": [],
   "source": [
    "# From the results of training set, we can see that LinearSVC has performed better compared to Logistic Regression and MultinomialNB. \n",
    "# So, we proceed to apply LinearSVC model for the test set, train and observe the results\n",
    "\n",
    "\n",
    "def score(classifier, X_train, y_train, X_test, y_test):\n",
    "    \"\"\"\n",
    "    Calculate Hamming-loss, F1, Recall for each label on test dataset.\n",
    "    \"\"\"\n",
    "    methods = []\n",
    "    hloss = []\n",
    "    name = classifier.__class__.__name__.split('.')[-1]\n",
    "    predict_df = pd.DataFrame()\n",
    "    predict_df['id'] = test_y['id']\n",
    "\n",
    "    for label in test_labels:\n",
    "        classifier.fit(X_train, y_train[label])\n",
    "        predicted = classifier.predict(X_test)\n",
    "\n",
    "        predict_df[label] = predicted\n",
    "\n",
    "        recall = recall_score(y_test[y_test[label] != -1][label],\n",
    "                              predicted[y_test[label] != -1],\n",
    "                              average=\"weighted\")\n",
    "        f1 = f1_score(y_test[y_test[label] != -1][label],\n",
    "                      predicted[y_test[label] != -1],\n",
    "                      average=\"weighted\")\n",
    "\n",
    "        conf_mat = confusion_matrix(y_test[y_test[label] != -1][label],\n",
    "                                    predicted[y_test[label] != -1])\n",
    "\n",
    "        methods.append([name, label, recall, f1, conf_mat])\n",
    "\n",
    "    hamming_loss_score = hamming_loss(test_y[test_y['toxic'] != -1].iloc[:, 1:7],\n",
    "                                      predict_df[test_y['toxic'] != -1].iloc[:, 1:7])\n",
    "    hloss.append([name, hamming_loss_score])\n",
    "\n",
    "    return hloss, methods"
   ]
  },
  {
   "cell_type": "code",
   "execution_count": 66,
   "id": "6254b2ca",
   "metadata": {},
   "outputs": [],
   "source": [
    "h3, methods3 = score(clf3, X_train, train, X_test, test_y)"
   ]
  },
  {
   "cell_type": "code",
   "execution_count": 67,
   "id": "ce30873b",
   "metadata": {},
   "outputs": [
    {
     "data": {
      "text/html": [
       "<div>\n",
       "<style scoped>\n",
       "    .dataframe tbody tr th:only-of-type {\n",
       "        vertical-align: middle;\n",
       "    }\n",
       "\n",
       "    .dataframe tbody tr th {\n",
       "        vertical-align: top;\n",
       "    }\n",
       "\n",
       "    .dataframe thead th {\n",
       "        text-align: right;\n",
       "    }\n",
       "</style>\n",
       "<table border=\"1\" class=\"dataframe\">\n",
       "  <thead>\n",
       "    <tr style=\"text-align: right;\">\n",
       "      <th></th>\n",
       "      <th>Model</th>\n",
       "      <th>Label</th>\n",
       "      <th>Recall</th>\n",
       "      <th>F1</th>\n",
       "    </tr>\n",
       "  </thead>\n",
       "  <tbody>\n",
       "    <tr>\n",
       "      <th>0</th>\n",
       "      <td>LinearSVC</td>\n",
       "      <td>toxic</td>\n",
       "      <td>0.925037</td>\n",
       "      <td>0.929860</td>\n",
       "    </tr>\n",
       "    <tr>\n",
       "      <th>1</th>\n",
       "      <td>LinearSVC</td>\n",
       "      <td>severe_toxic</td>\n",
       "      <td>0.992982</td>\n",
       "      <td>0.992775</td>\n",
       "    </tr>\n",
       "    <tr>\n",
       "      <th>2</th>\n",
       "      <td>LinearSVC</td>\n",
       "      <td>obscene</td>\n",
       "      <td>0.962815</td>\n",
       "      <td>0.962684</td>\n",
       "    </tr>\n",
       "    <tr>\n",
       "      <th>3</th>\n",
       "      <td>LinearSVC</td>\n",
       "      <td>threat</td>\n",
       "      <td>0.996374</td>\n",
       "      <td>0.995989</td>\n",
       "    </tr>\n",
       "    <tr>\n",
       "      <th>4</th>\n",
       "      <td>LinearSVC</td>\n",
       "      <td>insult</td>\n",
       "      <td>0.961440</td>\n",
       "      <td>0.959917</td>\n",
       "    </tr>\n",
       "    <tr>\n",
       "      <th>5</th>\n",
       "      <td>LinearSVC</td>\n",
       "      <td>identity_hate</td>\n",
       "      <td>0.990497</td>\n",
       "      <td>0.989008</td>\n",
       "    </tr>\n",
       "  </tbody>\n",
       "</table>\n",
       "</div>"
      ],
      "text/plain": [
       "       Model          Label    Recall        F1\n",
       "0  LinearSVC          toxic  0.925037  0.929860\n",
       "1  LinearSVC   severe_toxic  0.992982  0.992775\n",
       "2  LinearSVC        obscene  0.962815  0.962684\n",
       "3  LinearSVC         threat  0.996374  0.995989\n",
       "4  LinearSVC         insult  0.961440  0.959917\n",
       "5  LinearSVC  identity_hate  0.990497  0.989008"
      ]
     },
     "execution_count": 67,
     "metadata": {},
     "output_type": "execute_result"
    }
   ],
   "source": [
    "methods3 = pd.DataFrame(methods3)\n",
    "methods3.columns = ['Model', 'Label', 'Recall', 'F1', 'Confusion_Matrix']\n",
    "meth = methods3.reset_index()\n",
    "meth[['Model', 'Label', 'Recall', 'F1']]"
   ]
  },
  {
   "cell_type": "code",
   "execution_count": 68,
   "id": "e2e63791",
   "metadata": {},
   "outputs": [],
   "source": [
    "#Visualizing the results for all labels through Confusion Matrix \n",
    "\n",
    "def drawConfusionMatrix(cm):\n",
    "    cm = cm.astype('float')/cm.sum(axis=1)[:, np.newaxis]\n",
    "    ax = plt.axes()\n",
    "    sns.heatmap(cm,\n",
    "                annot=True,\n",
    "                annot_kws={\"size\": 16},\n",
    "                cmap=\"Blues\",\n",
    "                fmt='.2f',\n",
    "                linewidths=2,\n",
    "                linecolor='steelblue',\n",
    "                xticklabels=(\"Non-toxic\", \"Toxic\"),\n",
    "                yticklabels=(\"Non-toxic\", \"Toxic\"))\n",
    "\n",
    "    plt.ylabel('True', fontsize=18)\n",
    "    plt.xlabel('Predicted', fontsize=18)\n",
    "    plt.show()"
   ]
  },
  {
   "cell_type": "code",
   "execution_count": 69,
   "id": "5a742162",
   "metadata": {},
   "outputs": [],
   "source": [
    "def Matrix(label):\n",
    "    labels = {\"toxic\": 0, \"severe_toxic\": 1, \"obscene\": 2,\n",
    "              \"threat\": 3, \"insult\": 4, \"identity_hate\": 5}\n",
    "\n",
    "    pos = labels[label]\n",
    "    for i in range(pos, len(meth), 6):\n",
    "        print()\n",
    "        print(f\"****  {meth['Model'][i]}  ***\")\n",
    "        cm = meth['Confusion_Matrix'][i]\n",
    "        drawConfusionMatrix(cm)"
   ]
  },
  {
   "cell_type": "code",
   "execution_count": 70,
   "id": "c68be2be",
   "metadata": {},
   "outputs": [
    {
     "name": "stdout",
     "output_type": "stream",
     "text": [
      "Choose a class for the Confusion Matrix: obscene\n",
      "\n",
      "****  LinearSVC  ***\n"
     ]
    },
    {
     "data": {
      "image/png": "[encoded data removed]",
      "text/plain": [
       "<Figure size 640x480 with 2 Axes>"
      ]
     },
     "metadata": {},
     "output_type": "display_data"
    }
   ],
   "source": [
    "token = input('Choose a class for the Confusion Matrix: ')\n",
    "Matrix(token.lower())"
   ]
  },
  {
   "cell_type": "code",
   "execution_count": 71,
   "id": "80eb44c8",
   "metadata": {},
   "outputs": [
    {
     "name": "stdout",
     "output_type": "stream",
     "text": [
      "Choose a class for the Confusion Matrix: toxic\n",
      "\n",
      "****  LinearSVC  ***\n"
     ]
    },
    {
     "data": {
      "image/png": "[encoded data removed]",
      "text/plain": [
       "<Figure size 640x480 with 2 Axes>"
      ]
     },
     "metadata": {},
     "output_type": "display_data"
    }
   ],
   "source": [
    "token = input('Choose a class for the Confusion Matrix: ')\n",
    "Matrix(token.lower())"
   ]
  },
  {
   "cell_type": "code",
   "execution_count": 72,
   "id": "9131b2bc",
   "metadata": {},
   "outputs": [
    {
     "name": "stdout",
     "output_type": "stream",
     "text": [
      "Choose a class for the Confusion Matrix: severe_toxic\n",
      "\n",
      "****  LinearSVC  ***\n"
     ]
    },
    {
     "data": {
      "image/png": "[encoded data removed]",
      "text/plain": [
       "<Figure size 640x480 with 2 Axes>"
      ]
     },
     "metadata": {},
     "output_type": "display_data"
    }
   ],
   "source": [
    "token = input('Choose a class for the Confusion Matrix: ')\n",
    "Matrix(token.lower())"
   ]
  },
  {
   "cell_type": "code",
   "execution_count": 73,
   "id": "e36306ed",
   "metadata": {},
   "outputs": [
    {
     "name": "stdout",
     "output_type": "stream",
     "text": [
      "Choose a class for the Confusion Matrix: threat\n",
      "\n",
      "****  LinearSVC  ***\n"
     ]
    },
    {
     "data": {
      "image/png": "[encoded data removed]",
      "text/plain": [
       "<Figure size 640x480 with 2 Axes>"
      ]
     },
     "metadata": {},
     "output_type": "display_data"
    }
   ],
   "source": [
    "token = input('Choose a class for the Confusion Matrix: ')\n",
    "Matrix(token.lower())\n"
   ]
  },
  {
   "cell_type": "code",
   "execution_count": 74,
   "id": "e89a87f3",
   "metadata": {},
   "outputs": [
    {
     "name": "stdout",
     "output_type": "stream",
     "text": [
      "Choose a class for the Confusion Matrix: insult\n",
      "\n",
      "****  LinearSVC  ***\n"
     ]
    },
    {
     "data": {
      "image/png": "[encoded data removed]",
      "text/plain": [
       "<Figure size 640x480 with 2 Axes>"
      ]
     },
     "metadata": {},
     "output_type": "display_data"
    }
   ],
   "source": [
    "token = input('Choose a class for the Confusion Matrix: ')\n",
    "Matrix(token.lower())"
   ]
  },
  {
   "cell_type": "code",
   "execution_count": 75,
   "id": "9b5dd35e",
   "metadata": {},
   "outputs": [
    {
     "name": "stdout",
     "output_type": "stream",
     "text": [
      "Choose a class for the Confusion Matrix: identity_hate\n",
      "\n",
      "****  LinearSVC  ***\n"
     ]
    },
    {
     "data": {
      "image/png": "[encoded data removed]",
      "text/plain": [
       "<Figure size 640x480 with 2 Axes>"
      ]
     },
     "metadata": {},
     "output_type": "display_data"
    }
   ],
   "source": [
    "token = input('Choose a class for the Confusion Matrix: ')\n",
    "Matrix(token.lower())"
   ]
  },
  {
   "cell_type": "code",
   "execution_count": null,
   "id": "f34859e9",
   "metadata": {},
   "outputs": [],
   "source": []
  }
 ],
 "metadata": {
  "kernelspec": {
   "display_name": "Python 3 (ipykernel)",
   "language": "python",
   "name": "python3"
  },
  "language_info": {
   "codemirror_mode": {
    "name": "ipython",
    "version": 3
   },
   "file_extension": ".py",
   "mimetype": "text/x-python",
   "name": "python",
   "nbconvert_exporter": "python",
   "pygments_lexer": "ipython3",
   "version": "3.9.13"
  }
 },
 "nbformat": 4,
 "nbformat_minor": 5
}
